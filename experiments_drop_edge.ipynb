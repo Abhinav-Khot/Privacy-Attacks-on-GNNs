{
 "cells": [
  {
   "cell_type": "code",
   "execution_count": 1,
   "metadata": {},
   "outputs": [],
   "source": [
    "import subprocess\n",
    "import pandas as pd\n",
    "import numpy as np\n",
    "import re\n",
    "import matplotlib.pyplot as plt\n",
    "\n",
    "def run_experiment(model_param_file, train_adj_feature_file, fractionlabelsattack):\n",
    "    print(f\"Running experiment\")\n",
    "\n",
    "    command = [\n",
    "        \"python\", \"main.py\",\n",
    "        '--model_param_file', model_param_file,\n",
    "        '--train_adj_feature_file', train_adj_feature_file,\n",
    "        '--nlabel' , str(fractionlabelsattack)\n",
    "    ]\n",
    "\n",
    "    result = subprocess.run(command, capture_output=True, text=True, encoding='utf-8')\n",
    "\n",
    "    output = result.stdout\n",
    "    match = re.search(r\"AUC:\\s*([\\d.]+).*AP:\\s*([\\d.]+)\", output, re.DOTALL)\n",
    "    if match:\n",
    "        auc = float(match.group(1))\n",
    "        ap = float(match.group(2))\n",
    "    else:\n",
    "        auc, ap = None, None\n",
    "\n",
    "    return auc, ap\n"
   ]
  },
  {
   "cell_type": "markdown",
   "metadata": {},
   "source": [
    "The config for the experiments are as follows:\n",
    "\n",
    "Attacker has access to 10 % of node labels and all node features. We take models trained with varying levels of edge_drop_rate from 0.05 to 0.55"
   ]
  },
  {
   "cell_type": "code",
   "execution_count": null,
   "metadata": {},
   "outputs": [],
   "source": [
    "import os\n",
    "\n",
    "directory_path = \"E:\\project_course\\DPAR\\saved_models\"\n",
    "\n",
    "train_adj_feature_file = \"matricx.npz\"\n",
    "fractionlabelsattack = 0.1\n",
    "\n",
    "for filename in os.listdir(directory_path):\n",
    "    file_path = os.path.join(directory_path, filename)\n",
    "    print(f\"Processing file: {file_path}\")\n",
    "    auc, ap = run_experiment(file_path, train_adj_feature_file, fractionlabelsattack)\n",
    "    print(f\"File: {filename} -> AUC: {auc}, AP: {ap}\")"
   ]
  }
 ],
 "metadata": {
  "kernelspec": {
   "display_name": "venv",
   "language": "python",
   "name": "python3"
  },
  "language_info": {
   "codemirror_mode": {
    "name": "ipython",
    "version": 3
   },
   "file_extension": ".py",
   "mimetype": "text/x-python",
   "name": "python",
   "nbconvert_exporter": "python",
   "pygments_lexer": "ipython3",
   "version": "3.12.4"
  }
 },
 "nbformat": 4,
 "nbformat_minor": 2
}
