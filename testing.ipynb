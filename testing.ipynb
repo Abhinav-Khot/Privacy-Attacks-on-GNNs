{
 "cells": [
  {
   "cell_type": "code",
   "execution_count": 2,
   "metadata": {},
   "outputs": [],
   "source": [
    "import subprocess\n",
    "import pandas as pd\n",
    "import numpy as np\n",
    "import re\n",
    "\n",
    "def run_experiment(model_param_file, train_adj_feature_file, fractionlabelsattack):\n",
    "    print(f\"Running experiment\")\n",
    "    \n",
    "    command = [\n",
    "        \"python\", \"main.py\",    \n",
    "        '--model_param_file', model_param_file,\n",
    "        '--train_adj_feature_file', train_adj_feature_file,\n",
    "        '--nlabel' , str(fractionlabelsattack)\n",
    "    ]\n",
    "    \n",
    "    result = subprocess.run(command, capture_output=True, text=True, encoding='utf-8')\n",
    "    \n",
    "    output = result.stdout\n",
    "    match = re.search(r\"AUC:\\s*([\\d.]+).*AP:\\s*([\\d.]+)\", output, re.DOTALL)\n",
    "    if match:\n",
    "        auc = float(match.group(1))\n",
    "        ap = float(match.group(2))\n",
    "    else:\n",
    "        auc, ap = None, None\n",
    "\n",
    "    return auc, ap\n"
   ]
  },
  {
   "cell_type": "code",
   "execution_count": null,
   "metadata": {},
   "outputs": [
    {
     "name": "stdout",
     "output_type": "stream",
     "text": [
      "Running experiment\n",
      "cuda:0\n",
      "Done\n",
      "Number of indices randomly selected: 234\n",
      "[ 377  890 1152  865  125 2120 1341 1323  262  547  951 1837 2159  909\n",
      " 1266 2010  810  915  421   79 1866 1109 1870  904  236  461 1806 1060\n",
      "  930 2056 2225  212  803  925 1991 1248 1689  420  363 1033  133 1974\n",
      "  353  275 1617 2247 2130 2323  632  739  627 1230   33  147 1095  728\n",
      " 1660 1857 2217 1932 2038   76 2224 1038 1574 1685 1158 2337 1271  818\n",
      " 1127  124 1538 1058  770 1885  543 2184  467  784 1100 1179  292 2068\n",
      " 1021  561 1045 1417  877 1074 2154  950  981 1454 1171 1598  660  219\n",
      " 1050 2161  871  160  259  617 1794 1470    1  158 2329 1073 1414 1214\n",
      " 1085 1206 1878 1443 2211 1135  172 2158 1879 1968 1462  509  957 1018\n",
      " 1291 1003  432  789  769 1570 1842 1378 1780 1315 1044  655 1061 1200\n",
      " 2047 1327 1715 1892   68 1508 1969  934  138 1231  738 1042  449 1938\n",
      "  499 1875  354 1753 1148 1362 2136 1983 1500 1990 1168  582 1882 1754\n",
      " 2140 1537   32 1704  357  424  827 2186  246  301 1215 1939  993 1265\n",
      " 2083 1502 2033 1811 1293 1436  512 1030   27  722  882 1945 1217 2072\n",
      " 1114  505 2333  476  998 1066 2307  914 1612 1367  226 1608  633 1638\n",
      "  746 1220  470  679 1075  102 1056  870 1874  631 1683  261 1965 1403\n",
      "  477  418  545  215  339 1358  265 2327 1272  390]\n",
      "2343\n",
      "90373\n",
      "(2879, 32)\n",
      "(32, 7)\n",
      "=== calculating link inference AUC&AP ===\n",
      "[0.5650898  0.74468136 0.6112752  ... 0.7664997  0.4494305  1.0720226 ]\n",
      "tensor(0.2525) tensor(0.)\n",
      "Inference attack AUC: 0.799305 AP: 0.811066\n",
      "Number of edges predicted correctly: 0 0.0\n",
      "\n",
      "Model: model_cora_ml_nosampling.npz AUC: 0.799305 AP: 0.811066\n",
      "Running experiment\n"
     ]
    }
   ],
   "source": [
    "params = ['model_cora_ml_nosampling.npz', 'model_cora_ml_sampling50pct.npz', 'model_cora_ml_sampling9pct.npz']\n",
    "\n",
    "for i in params:\n",
    "    auc, ap = run_experiment(i, 'matricx.npz', 0.1)\n",
    "    print(f\"Model: {i} AUC: {auc} AP: {ap}\")\n",
    "    auc, ap = run_experiment(i, 'matricx.npz', 0.1)\n",
    "    print(f\"Model: {i} AUC: {auc} AP: {ap}\")\n",
    "    auc, ap = run_experiment(i, 'matricx.npz', 0.1)\n",
    "    print(f\"Model: {i} AUC: {auc} AP: {ap}\")"
   ]
  },
  {
   "cell_type": "code",
   "execution_count": null,
   "metadata": {},
   "outputs": [],
   "source": []
  }
 ],
 "metadata": {
  "kernelspec": {
   "display_name": "venv",
   "language": "python",
   "name": "python3"
  },
  "language_info": {
   "codemirror_mode": {
    "name": "ipython",
    "version": 3
   },
   "file_extension": ".py",
   "mimetype": "text/x-python",
   "name": "python",
   "nbconvert_exporter": "python",
   "pygments_lexer": "ipython3",
   "version": "3.12.4"
  }
 },
 "nbformat": 4,
 "nbformat_minor": 2
}
