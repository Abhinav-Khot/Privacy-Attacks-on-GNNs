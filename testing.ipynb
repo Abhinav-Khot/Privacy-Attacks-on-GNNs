{
 "cells": [
  {
   "cell_type": "code",
   "execution_count": 2,
   "metadata": {},
   "outputs": [],
   "source": [
    "import subprocess\n",
    "import pandas as pd\n",
    "import numpy as np\n",
    "import re\n",
    "\n",
    "def run_experiment(model_param_file, train_adj_feature_file, fractionlabelsattack):\n",
    "    print(f\"Running experiment\")\n",
    "    \n",
    "    command = [\n",
    "        \"python\", \"main.py\",    \n",
    "        '--model_param_file', model_param_file,\n",
    "        '--train_adj_feature_file', train_adj_feature_file,\n",
    "        '--nlabel' , str(fractionlabelsattack)\n",
    "    ]\n",
    "    \n",
    "    result = subprocess.run(command, capture_output=True, text=True, encoding='utf-8')\n",
    "    \n",
    "    output = result.stdout\n",
    "    match = re.search(r\"AUC:\\s*([\\d.]+).*AP:\\s*([\\d.]+)\", output, re.DOTALL)\n",
    "    if match:\n",
    "        auc = float(match.group(1))\n",
    "        ap = float(match.group(2))\n",
    "    else:\n",
    "        auc, ap = None, None\n",
    "\n",
    "    return auc, ap\n"
   ]
  },
  {
   "cell_type": "code",
   "execution_count": null,
   "metadata": {},
   "outputs": [
    {
     "name": "stdout",
     "output_type": "stream",
     "text": [
      "Running experiment\n"
     ]
    }
   ],
   "source": [
    "params = ['model_cora_ml_nosampling.npz', 'model_cora_ml_sampling50pct.npz', 'model_cora_ml_sampling9pct.npz']\n",
    "\n",
    "for i in params:\n",
    "    auc, ap = run_experiment(i, 'matricx.npz', 0.1)\n",
    "    print(f\"Model: {i} AUC: {auc} AP: {ap}\")\n"
   ]
  },
  {
   "cell_type": "code",
   "execution_count": null,
   "metadata": {},
   "outputs": [],
   "source": []
  }
 ],
 "metadata": {
  "kernelspec": {
   "display_name": "venv",
   "language": "python",
   "name": "python3"
  },
  "language_info": {
   "codemirror_mode": {
    "name": "ipython",
    "version": 3
   },
   "file_extension": ".py",
   "mimetype": "text/x-python",
   "name": "python",
   "nbconvert_exporter": "python",
   "pygments_lexer": "ipython3",
   "version": "3.12.4"
  }
 },
 "nbformat": 4,
 "nbformat_minor": 2
}
